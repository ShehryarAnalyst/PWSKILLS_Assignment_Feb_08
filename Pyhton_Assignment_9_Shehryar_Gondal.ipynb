{
 "cells": [
  {
   "cell_type": "markdown",
   "id": "2d96ff72",
   "metadata": {},
   "source": [
    "## Assignments Question"
   ]
  },
  {
   "cell_type": "markdown",
   "id": "63726ead",
   "metadata": {},
   "source": [
    "__Q1. What is Abstraction in OOps? Explain with an example ?__\n",
    "\n",
    "__Ans)__ Abstraction in OOP is the process of hiding complexity and only exposing essential information to the user. It allows the user to interact with objects without knowing the underlying details. A real-world example of abstraction could be using a computer mouse. The user is only concerned with moving the cursor and clicking buttons, but doesn't need to know about the underlying electronics and software that make the mouse work. Another Example is ATM , like we can withdraw money from it but user/ withdrawer donot have any concern with working of ATM machine."
   ]
  },
  {
   "cell_type": "markdown",
   "id": "0dd29115",
   "metadata": {},
   "source": [
    "__Q2. Differentiate between Abstraction and Encapsulation. Explain with an example ?__\n",
    "\n",
    "__Ans)__ __Abstraction__ is the process of hiding complexity and only exposing essential information to the user. It allows the user to interact with objects without knowing the underlying details. A real-world example of abstraction could be using a computer mouse. The user is only concerned with moving the cursor and clicking buttons, but doesn't need to know about the underlying electronics and software that make the mouse work. <br>\n",
    "__Encapsulation__ is the process of bundling data and functions that operate on that data within a single unit, or object. It provides a protective barrier around the data, hiding it from the outside world and allowing the data to be manipulated only through a well-defined set of interfaces. A real world example is a car engine. The engine is encapsulated within the car's body and can only be accessed through the hood. The internal workings of the engine are hidden from the outside world, and can only be manipulated by trained mechanics through the proper procedures.\n"
   ]
  },
  {
   "cell_type": "markdown",
   "id": "a9da271c",
   "metadata": {},
   "source": [
    "__Q3. What is abc module in python? Why is it used?__\n",
    "\n",
    "__Ans)__ The __abc module__ in Python is the \"Abstract Base Class\" module. It is part of the standard library and provides a way to define abstract base classes (ABCs) in Python. An abstract base class is a class that cannot be instantiated and is used as a blueprint for defining other classes. The idea is to specify a common interface for a set of classes and enforce the implementation of certain methods in those classes."
   ]
  },
  {
   "cell_type": "markdown",
   "id": "08114f23",
   "metadata": {},
   "source": [
    "__Q4. How can we achieve data abstraction?__ <br>\n",
    "\n",
    "__Ans)__ Data abstraction can be achieved by encapsulating data within an object and providing a set of well-defined interfaces for accessing and manipulating the data. This helps to hide the implementation details of an object and protect the data from being accessed or modified directly."
   ]
  },
  {
   "cell_type": "markdown",
   "id": "52be15b7",
   "metadata": {},
   "source": [
    "__Q5) Write short as you can as student ?__ <br>\n",
    "\n",
    "__Ans)__  __NO__,we cannot create an instance of an abstract class. An abstract class is a blueprint for other classes, and is not intended to be instantiated on its own. It is defined to provide a common interface for a set of related classes and enforce the implementation of certain methods in those classes. Subclasses must implement the abstract methods defined in the abstract class, before they can be instantiated."
   ]
  },
  {
   "cell_type": "markdown",
   "id": "4b71839d",
   "metadata": {},
   "source": [
    "-------------------------------------------------------------------------------------------- __End__----------------------------------------------------------------------------------------------------------------"
   ]
  }
 ],
 "metadata": {
  "kernelspec": {
   "display_name": "Python 3 (ipykernel)",
   "language": "python",
   "name": "python3"
  },
  "language_info": {
   "codemirror_mode": {
    "name": "ipython",
    "version": 3
   },
   "file_extension": ".py",
   "mimetype": "text/x-python",
   "name": "python",
   "nbconvert_exporter": "python",
   "pygments_lexer": "ipython3",
   "version": "3.9.12"
  },
  "varInspector": {
   "cols": {
    "lenName": 16,
    "lenType": 16,
    "lenVar": 40
   },
   "kernels_config": {
    "python": {
     "delete_cmd_postfix": "",
     "delete_cmd_prefix": "del ",
     "library": "var_list.py",
     "varRefreshCmd": "print(var_dic_list())"
    },
    "r": {
     "delete_cmd_postfix": ") ",
     "delete_cmd_prefix": "rm(",
     "library": "var_list.r",
     "varRefreshCmd": "cat(var_dic_list()) "
    }
   },
   "types_to_exclude": [
    "module",
    "function",
    "builtin_function_or_method",
    "instance",
    "_Feature"
   ],
   "window_display": false
  }
 },
 "nbformat": 4,
 "nbformat_minor": 5
}
